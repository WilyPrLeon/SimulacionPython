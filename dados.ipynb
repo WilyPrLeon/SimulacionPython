{
 "cells": [
  {
   "cell_type": "markdown",
   "metadata": {},
   "source": [
    "Generar dos numeros pseudoaleatorios (los dados) deben utilizar dos librerias distintas(1-6), sumar estos numeros\n",
    "y generar una tabla de resultados\n",
    "generar con 100,1000 y 10000 eventos de lazamiento y generar las concluciones\n",
    "\n",
    "100 EVENTOS\n"
   ]
  },
  {
   "cell_type": "code",
   "execution_count": 52,
   "metadata": {},
   "outputs": [
    {
     "name": "stdout",
     "output_type": "stream",
     "text": [
      "2.0\t2.0\t0.02\t\n",
      "3.0\t6.0\t0.06\t\n",
      "4.0\t9.0\t0.09\t\n",
      "5.0\t12.0\t0.12\t\n",
      "6.0\t13.0\t0.13\t\n",
      "7.0\t16.0\t0.16\t\n",
      "8.0\t22.0\t0.22\t\n",
      "9.0\t6.0\t0.06\t\n",
      "10.0\t5.0\t0.05\t\n",
      "11.0\t6.0\t0.06\t\n",
      "12.0\t3.0\t0.03\t\n"
     ]
    }
   ],
   "source": [
    "import random\n",
    "import numpy as np\n",
    "matriz = np.zeros((11,3))\n",
    "lista=[1,2,3,4,5,6]\n",
    "for i in range(11):\n",
    "    f=i+2\n",
    "    matriz[i][0]=f\n",
    "for i in range(100):\n",
    "    n1=(np.random.randint(1,7))\n",
    "    n2=(random.choice(lista))\n",
    "    sum=n1+n2\n",
    "    matriz[sum-2][1]=matriz[sum-2][1]+1\n",
    "for i in range(11):\n",
    "    matriz[i][2]=(matriz[i][1])/100\n",
    "a=\"\"\n",
    "for i in range(11):\n",
    "    for j in range(3):\n",
    "         a+=str(matriz[i][j])+'\\t'\n",
    "    print (a)\n",
    "    a=\"\"\n",
    "#print (matriz)\n",
    "#suma --- frecuencia----Probabilidad"
   ]
  },
  {
   "cell_type": "markdown",
   "metadata": {},
   "source": [
    "1000 EVENTOS"
   ]
  },
  {
   "cell_type": "code",
   "execution_count": 16,
   "metadata": {},
   "outputs": [
    {
     "name": "stdout",
     "output_type": "stream",
     "text": [
      "2.0\t24.0\t0.024\t\n",
      "3.0\t48.0\t0.048\t\n",
      "4.0\t84.0\t0.084\t\n",
      "5.0\t102.0\t0.102\t\n",
      "6.0\t151.0\t0.151\t\n",
      "7.0\t172.0\t0.172\t\n",
      "8.0\t136.0\t0.136\t\n",
      "9.0\t129.0\t0.129\t\n",
      "10.0\t79.0\t0.079\t\n",
      "11.0\t52.0\t0.052\t\n",
      "12.0\t23.0\t0.023\t\n"
     ]
    }
   ],
   "source": [
    "import random\n",
    "import numpy as np\n",
    "matriz1 = np.zeros((11,3))\n",
    "lista=[1,2,3,4,5,6]\n",
    "for i in range(11):\n",
    "    f=i+2\n",
    "    matriz1[i][0]=f\n",
    "for i in range(1000):\n",
    "    n1=(np.random.randint(1,7))\n",
    "    n2=(random.choice(lista))\n",
    "    sum1=n1+n2\n",
    "    matriz1[sum1-2][1]=matriz1[sum1-2][1]+1\n",
    "for i in range(11):\n",
    "    matriz1[i][2]=(matriz1[i][1])/1000\n",
    "for i in range(11):\n",
    "    for j in range(3):\n",
    "         a+=str(matriz1[i][j])+'\\t'\n",
    "    print (a)\n",
    "    a=\"\"\n",
    "#suma --- frecuencia----Probabilidad"
   ]
  },
  {
   "cell_type": "markdown",
   "metadata": {},
   "source": [
    "10000 EVENTOS"
   ]
  },
  {
   "cell_type": "code",
   "execution_count": 17,
   "metadata": {},
   "outputs": [
    {
     "name": "stdout",
     "output_type": "stream",
     "text": [
      "2.0\t280.0\t0.028\t\n",
      "3.0\t536.0\t0.0536\t\n",
      "4.0\t826.0\t0.0826\t\n",
      "5.0\t1093.0\t0.1093\t\n",
      "6.0\t1419.0\t0.1419\t\n",
      "7.0\t1692.0\t0.1692\t\n",
      "8.0\t1421.0\t0.1421\t\n",
      "9.0\t1107.0\t0.1107\t\n",
      "10.0\t788.0\t0.0788\t\n",
      "11.0\t566.0\t0.0566\t\n",
      "12.0\t272.0\t0.0272\t\n"
     ]
    }
   ],
   "source": [
    "import random\n",
    "import numpy as np\n",
    "matriz2 = np.zeros((11,3))\n",
    "lista=[1,2,3,4,5,6]\n",
    "for i in range(11):\n",
    "    f=i+2\n",
    "    matriz2[i][0]=f\n",
    "for i in range(10000):\n",
    "    n1=(np.random.randint(1,7))\n",
    "    n2=(random.choice(lista))\n",
    "    sum1=n1+n2\n",
    "    matriz2[sum1-2][1]=matriz2[sum1-2][1]+1\n",
    "for i in range(11):\n",
    "    matriz2[i][2]=(matriz2[i][1])/10000\n",
    "for i in range(11):\n",
    "    for j in range(3):\n",
    "         a+=str(matriz2[i][j])+'\\t'\n",
    "    print (a)\n",
    "    a=\"\"\n",
    "#suma --- frecuencia----Probabilidad"
   ]
  },
  {
   "cell_type": "markdown",
   "metadata": {},
   "source": [
    "Cocluciones\n",
    "con los datos que emos podido conseguir podemos concluir que el la sumas mas probables de dados serian (5,6,7,8) debido a qestas tienen el numero de problabilidad mas alto de salida "
   ]
  }
 ],
 "metadata": {
  "kernelspec": {
   "display_name": "Python 3",
   "language": "python",
   "name": "python3"
  },
  "language_info": {
   "codemirror_mode": {
    "name": "ipython",
    "version": 3
   },
   "file_extension": ".py",
   "mimetype": "text/x-python",
   "name": "python",
   "nbconvert_exporter": "python",
   "pygments_lexer": "ipython3",
   "version": "3.7.4"
  }
 },
 "nbformat": 4,
 "nbformat_minor": 2
}
