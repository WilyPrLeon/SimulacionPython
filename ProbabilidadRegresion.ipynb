{
 "cells": [
  {
   "cell_type": "markdown",
   "metadata": {},
   "source": [
    "# Covid-19 infección en Ecuador. Modelos probabilisticos\n",
    "Implementacion de un modelo probabilistico de infección por el virus Covid-19\n",
    "\n",
    "Se realiza un análisis probabilistico simple del crecimiento de la infección en Python y el modelos para comprender mejor la evolución de la infección.\n",
    "\n",
    "Se crea modelos de series temporales del número total de personas infectadas hasta la fecha (es decir, las personas realmente infectadas más las personas que han sido infectadas). Estos modelos tienen parámetros , que se estimarán por ajuste de probabilidad."
   ]
  },
  {
   "cell_type": "code",
   "execution_count": 55,
   "metadata": {},
   "outputs": [],
   "source": [
    "# Importar las librerias para el analasis\n",
    "import pandas as pd\n",
    "import numpy as np\n",
    "from datetime import datetime,timedelta\n",
    "from sklearn.metrics import mean_squared_error\n",
    "from scipy.optimize import curve_fit\n",
    "from scipy.optimize import fsolve\n",
    "from sklearn import linear_model\n",
    "import matplotlib.pyplot as plt\n",
    "%matplotlib inline\n"
   ]
  },
  {
   "cell_type": "code",
   "execution_count": 56,
   "metadata": {},
   "outputs": [
    {
     "data": {
      "text/html": [
       "<div>\n",
       "<style scoped>\n",
       "    .dataframe tbody tr th:only-of-type {\n",
       "        vertical-align: middle;\n",
       "    }\n",
       "\n",
       "    .dataframe tbody tr th {\n",
       "        vertical-align: top;\n",
       "    }\n",
       "\n",
       "    .dataframe thead th {\n",
       "        text-align: right;\n",
       "    }\n",
       "</style>\n",
       "<table border=\"1\" class=\"dataframe\">\n",
       "  <thead>\n",
       "    <tr style=\"text-align: right;\">\n",
       "      <th></th>\n",
       "      <th>date</th>\n",
       "      <th>World</th>\n",
       "      <th>Afghanistan</th>\n",
       "      <th>Albania</th>\n",
       "      <th>Algeria</th>\n",
       "      <th>Andorra</th>\n",
       "      <th>Angola</th>\n",
       "      <th>Anguilla</th>\n",
       "      <th>Antigua and Barbuda</th>\n",
       "      <th>Argentina</th>\n",
       "      <th>...</th>\n",
       "      <th>United States</th>\n",
       "      <th>United States Virgin Islands</th>\n",
       "      <th>Uruguay</th>\n",
       "      <th>Uzbekistan</th>\n",
       "      <th>Vatican</th>\n",
       "      <th>Venezuela</th>\n",
       "      <th>Vietnam</th>\n",
       "      <th>Yemen</th>\n",
       "      <th>Zambia</th>\n",
       "      <th>Zimbabwe</th>\n",
       "    </tr>\n",
       "  </thead>\n",
       "  <tbody>\n",
       "    <tr>\n",
       "      <td>0</td>\n",
       "      <td>2019-12-31</td>\n",
       "      <td>27</td>\n",
       "      <td>0.0</td>\n",
       "      <td>NaN</td>\n",
       "      <td>0.0</td>\n",
       "      <td>NaN</td>\n",
       "      <td>NaN</td>\n",
       "      <td>NaN</td>\n",
       "      <td>NaN</td>\n",
       "      <td>NaN</td>\n",
       "      <td>...</td>\n",
       "      <td>0</td>\n",
       "      <td>NaN</td>\n",
       "      <td>NaN</td>\n",
       "      <td>NaN</td>\n",
       "      <td>NaN</td>\n",
       "      <td>NaN</td>\n",
       "      <td>0.0</td>\n",
       "      <td>NaN</td>\n",
       "      <td>NaN</td>\n",
       "      <td>NaN</td>\n",
       "    </tr>\n",
       "    <tr>\n",
       "      <td>1</td>\n",
       "      <td>2020-01-01</td>\n",
       "      <td>0</td>\n",
       "      <td>0.0</td>\n",
       "      <td>NaN</td>\n",
       "      <td>0.0</td>\n",
       "      <td>NaN</td>\n",
       "      <td>NaN</td>\n",
       "      <td>NaN</td>\n",
       "      <td>NaN</td>\n",
       "      <td>NaN</td>\n",
       "      <td>...</td>\n",
       "      <td>0</td>\n",
       "      <td>NaN</td>\n",
       "      <td>NaN</td>\n",
       "      <td>NaN</td>\n",
       "      <td>NaN</td>\n",
       "      <td>NaN</td>\n",
       "      <td>0.0</td>\n",
       "      <td>NaN</td>\n",
       "      <td>NaN</td>\n",
       "      <td>NaN</td>\n",
       "    </tr>\n",
       "    <tr>\n",
       "      <td>2</td>\n",
       "      <td>2020-01-02</td>\n",
       "      <td>0</td>\n",
       "      <td>0.0</td>\n",
       "      <td>NaN</td>\n",
       "      <td>0.0</td>\n",
       "      <td>NaN</td>\n",
       "      <td>NaN</td>\n",
       "      <td>NaN</td>\n",
       "      <td>NaN</td>\n",
       "      <td>NaN</td>\n",
       "      <td>...</td>\n",
       "      <td>0</td>\n",
       "      <td>NaN</td>\n",
       "      <td>NaN</td>\n",
       "      <td>NaN</td>\n",
       "      <td>NaN</td>\n",
       "      <td>NaN</td>\n",
       "      <td>0.0</td>\n",
       "      <td>NaN</td>\n",
       "      <td>NaN</td>\n",
       "      <td>NaN</td>\n",
       "    </tr>\n",
       "    <tr>\n",
       "      <td>3</td>\n",
       "      <td>2020-01-03</td>\n",
       "      <td>17</td>\n",
       "      <td>0.0</td>\n",
       "      <td>NaN</td>\n",
       "      <td>0.0</td>\n",
       "      <td>NaN</td>\n",
       "      <td>NaN</td>\n",
       "      <td>NaN</td>\n",
       "      <td>NaN</td>\n",
       "      <td>NaN</td>\n",
       "      <td>...</td>\n",
       "      <td>0</td>\n",
       "      <td>NaN</td>\n",
       "      <td>NaN</td>\n",
       "      <td>NaN</td>\n",
       "      <td>NaN</td>\n",
       "      <td>NaN</td>\n",
       "      <td>0.0</td>\n",
       "      <td>NaN</td>\n",
       "      <td>NaN</td>\n",
       "      <td>NaN</td>\n",
       "    </tr>\n",
       "    <tr>\n",
       "      <td>4</td>\n",
       "      <td>2020-01-04</td>\n",
       "      <td>0</td>\n",
       "      <td>0.0</td>\n",
       "      <td>NaN</td>\n",
       "      <td>0.0</td>\n",
       "      <td>NaN</td>\n",
       "      <td>NaN</td>\n",
       "      <td>NaN</td>\n",
       "      <td>NaN</td>\n",
       "      <td>NaN</td>\n",
       "      <td>...</td>\n",
       "      <td>0</td>\n",
       "      <td>NaN</td>\n",
       "      <td>NaN</td>\n",
       "      <td>NaN</td>\n",
       "      <td>NaN</td>\n",
       "      <td>NaN</td>\n",
       "      <td>0.0</td>\n",
       "      <td>NaN</td>\n",
       "      <td>NaN</td>\n",
       "      <td>NaN</td>\n",
       "    </tr>\n",
       "    <tr>\n",
       "      <td>...</td>\n",
       "      <td>...</td>\n",
       "      <td>...</td>\n",
       "      <td>...</td>\n",
       "      <td>...</td>\n",
       "      <td>...</td>\n",
       "      <td>...</td>\n",
       "      <td>...</td>\n",
       "      <td>...</td>\n",
       "      <td>...</td>\n",
       "      <td>...</td>\n",
       "      <td>...</td>\n",
       "      <td>...</td>\n",
       "      <td>...</td>\n",
       "      <td>...</td>\n",
       "      <td>...</td>\n",
       "      <td>...</td>\n",
       "      <td>...</td>\n",
       "      <td>...</td>\n",
       "      <td>...</td>\n",
       "      <td>...</td>\n",
       "      <td>...</td>\n",
       "    </tr>\n",
       "    <tr>\n",
       "      <td>111</td>\n",
       "      <td>2020-04-20</td>\n",
       "      <td>74142</td>\n",
       "      <td>88.0</td>\n",
       "      <td>14.0</td>\n",
       "      <td>94.0</td>\n",
       "      <td>9.0</td>\n",
       "      <td>0.0</td>\n",
       "      <td>0.0</td>\n",
       "      <td>0.0</td>\n",
       "      <td>102.0</td>\n",
       "      <td>...</td>\n",
       "      <td>24601</td>\n",
       "      <td>0.0</td>\n",
       "      <td>11.0</td>\n",
       "      <td>70.0</td>\n",
       "      <td>0.0</td>\n",
       "      <td>29.0</td>\n",
       "      <td>0.0</td>\n",
       "      <td>0.0</td>\n",
       "      <td>4.0</td>\n",
       "      <td>0.0</td>\n",
       "    </tr>\n",
       "    <tr>\n",
       "      <td>112</td>\n",
       "      <td>2020-04-21</td>\n",
       "      <td>77274</td>\n",
       "      <td>35.0</td>\n",
       "      <td>22.0</td>\n",
       "      <td>89.0</td>\n",
       "      <td>4.0</td>\n",
       "      <td>0.0</td>\n",
       "      <td>0.0</td>\n",
       "      <td>0.0</td>\n",
       "      <td>90.0</td>\n",
       "      <td>...</td>\n",
       "      <td>28065</td>\n",
       "      <td>1.0</td>\n",
       "      <td>7.0</td>\n",
       "      <td>92.0</td>\n",
       "      <td>1.0</td>\n",
       "      <td>0.0</td>\n",
       "      <td>0.0</td>\n",
       "      <td>0.0</td>\n",
       "      <td>4.0</td>\n",
       "      <td>0.0</td>\n",
       "    </tr>\n",
       "    <tr>\n",
       "      <td>113</td>\n",
       "      <td>2020-04-22</td>\n",
       "      <td>87387</td>\n",
       "      <td>61.0</td>\n",
       "      <td>25.0</td>\n",
       "      <td>93.0</td>\n",
       "      <td>0.0</td>\n",
       "      <td>0.0</td>\n",
       "      <td>0.0</td>\n",
       "      <td>1.0</td>\n",
       "      <td>112.0</td>\n",
       "      <td>...</td>\n",
       "      <td>37289</td>\n",
       "      <td>0.0</td>\n",
       "      <td>8.0</td>\n",
       "      <td>35.0</td>\n",
       "      <td>0.0</td>\n",
       "      <td>29.0</td>\n",
       "      <td>0.0</td>\n",
       "      <td>0.0</td>\n",
       "      <td>0.0</td>\n",
       "      <td>3.0</td>\n",
       "    </tr>\n",
       "    <tr>\n",
       "      <td>114</td>\n",
       "      <td>2020-04-23</td>\n",
       "      <td>67629</td>\n",
       "      <td>84.0</td>\n",
       "      <td>25.0</td>\n",
       "      <td>99.0</td>\n",
       "      <td>6.0</td>\n",
       "      <td>0.0</td>\n",
       "      <td>0.0</td>\n",
       "      <td>0.0</td>\n",
       "      <td>144.0</td>\n",
       "      <td>...</td>\n",
       "      <td>17588</td>\n",
       "      <td>0.0</td>\n",
       "      <td>6.0</td>\n",
       "      <td>24.0</td>\n",
       "      <td>0.0</td>\n",
       "      <td>3.0</td>\n",
       "      <td>0.0</td>\n",
       "      <td>0.0</td>\n",
       "      <td>9.0</td>\n",
       "      <td>0.0</td>\n",
       "    </tr>\n",
       "    <tr>\n",
       "      <td>115</td>\n",
       "      <td>2020-04-24</td>\n",
       "      <td>80071</td>\n",
       "      <td>105.0</td>\n",
       "      <td>29.0</td>\n",
       "      <td>97.0</td>\n",
       "      <td>1.0</td>\n",
       "      <td>1.0</td>\n",
       "      <td>0.0</td>\n",
       "      <td>0.0</td>\n",
       "      <td>147.0</td>\n",
       "      <td>...</td>\n",
       "      <td>26543</td>\n",
       "      <td>0.0</td>\n",
       "      <td>8.0</td>\n",
       "      <td>62.0</td>\n",
       "      <td>0.0</td>\n",
       "      <td>10.0</td>\n",
       "      <td>0.0</td>\n",
       "      <td>0.0</td>\n",
       "      <td>2.0</td>\n",
       "      <td>1.0</td>\n",
       "    </tr>\n",
       "  </tbody>\n",
       "</table>\n",
       "<p>116 rows × 208 columns</p>\n",
       "</div>"
      ],
      "text/plain": [
       "           date  World  Afghanistan  Albania  Algeria  Andorra  Angola  \\\n",
       "0    2019-12-31     27          0.0      NaN      0.0      NaN     NaN   \n",
       "1    2020-01-01      0          0.0      NaN      0.0      NaN     NaN   \n",
       "2    2020-01-02      0          0.0      NaN      0.0      NaN     NaN   \n",
       "3    2020-01-03     17          0.0      NaN      0.0      NaN     NaN   \n",
       "4    2020-01-04      0          0.0      NaN      0.0      NaN     NaN   \n",
       "..          ...    ...          ...      ...      ...      ...     ...   \n",
       "111  2020-04-20  74142         88.0     14.0     94.0      9.0     0.0   \n",
       "112  2020-04-21  77274         35.0     22.0     89.0      4.0     0.0   \n",
       "113  2020-04-22  87387         61.0     25.0     93.0      0.0     0.0   \n",
       "114  2020-04-23  67629         84.0     25.0     99.0      6.0     0.0   \n",
       "115  2020-04-24  80071        105.0     29.0     97.0      1.0     1.0   \n",
       "\n",
       "     Anguilla  Antigua and Barbuda  Argentina  ...  United States  \\\n",
       "0         NaN                  NaN        NaN  ...              0   \n",
       "1         NaN                  NaN        NaN  ...              0   \n",
       "2         NaN                  NaN        NaN  ...              0   \n",
       "3         NaN                  NaN        NaN  ...              0   \n",
       "4         NaN                  NaN        NaN  ...              0   \n",
       "..        ...                  ...        ...  ...            ...   \n",
       "111       0.0                  0.0      102.0  ...          24601   \n",
       "112       0.0                  0.0       90.0  ...          28065   \n",
       "113       0.0                  1.0      112.0  ...          37289   \n",
       "114       0.0                  0.0      144.0  ...          17588   \n",
       "115       0.0                  0.0      147.0  ...          26543   \n",
       "\n",
       "     United States Virgin Islands  Uruguay  Uzbekistan  Vatican  Venezuela  \\\n",
       "0                             NaN      NaN         NaN      NaN        NaN   \n",
       "1                             NaN      NaN         NaN      NaN        NaN   \n",
       "2                             NaN      NaN         NaN      NaN        NaN   \n",
       "3                             NaN      NaN         NaN      NaN        NaN   \n",
       "4                             NaN      NaN         NaN      NaN        NaN   \n",
       "..                            ...      ...         ...      ...        ...   \n",
       "111                           0.0     11.0        70.0      0.0       29.0   \n",
       "112                           1.0      7.0        92.0      1.0        0.0   \n",
       "113                           0.0      8.0        35.0      0.0       29.0   \n",
       "114                           0.0      6.0        24.0      0.0        3.0   \n",
       "115                           0.0      8.0        62.0      0.0       10.0   \n",
       "\n",
       "     Vietnam  Yemen  Zambia  Zimbabwe  \n",
       "0        0.0    NaN     NaN       NaN  \n",
       "1        0.0    NaN     NaN       NaN  \n",
       "2        0.0    NaN     NaN       NaN  \n",
       "3        0.0    NaN     NaN       NaN  \n",
       "4        0.0    NaN     NaN       NaN  \n",
       "..       ...    ...     ...       ...  \n",
       "111      0.0    0.0     4.0       0.0  \n",
       "112      0.0    0.0     4.0       0.0  \n",
       "113      0.0    0.0     0.0       3.0  \n",
       "114      0.0    0.0     9.0       0.0  \n",
       "115      0.0    0.0     2.0       1.0  \n",
       "\n",
       "[116 rows x 208 columns]"
      ]
     },
     "execution_count": 56,
     "metadata": {},
     "output_type": "execute_result"
    }
   ],
   "source": [
    "# Actualizar los datos (URL)\n",
    "url = 'https://covid.ourworldindata.org/data/ecdc/new_cases.csv'\n",
    "df = pd.read_csv(url)\n",
    "df"
   ]
  },
  {
   "cell_type": "markdown",
   "metadata": {},
   "source": [
    "Imprimos los resultados y agregamos el numero del dia\n"
   ]
  },
  {
   "cell_type": "code",
   "execution_count": 57,
   "metadata": {},
   "outputs": [
    {
     "data": {
      "text/html": [
       "<div>\n",
       "<style scoped>\n",
       "    .dataframe tbody tr th:only-of-type {\n",
       "        vertical-align: middle;\n",
       "    }\n",
       "\n",
       "    .dataframe tbody tr th {\n",
       "        vertical-align: top;\n",
       "    }\n",
       "\n",
       "    .dataframe thead th {\n",
       "        text-align: right;\n",
       "    }\n",
       "</style>\n",
       "<table border=\"1\" class=\"dataframe\">\n",
       "  <thead>\n",
       "    <tr style=\"text-align: right;\">\n",
       "      <th></th>\n",
       "      <th>date</th>\n",
       "      <th>Ecuador</th>\n",
       "    </tr>\n",
       "  </thead>\n",
       "  <tbody>\n",
       "    <tr>\n",
       "      <td>0</td>\n",
       "      <td>-1</td>\n",
       "      <td>0.0</td>\n",
       "    </tr>\n",
       "    <tr>\n",
       "      <td>1</td>\n",
       "      <td>0</td>\n",
       "      <td>0.0</td>\n",
       "    </tr>\n",
       "    <tr>\n",
       "      <td>2</td>\n",
       "      <td>1</td>\n",
       "      <td>0.0</td>\n",
       "    </tr>\n",
       "    <tr>\n",
       "      <td>3</td>\n",
       "      <td>2</td>\n",
       "      <td>0.0</td>\n",
       "    </tr>\n",
       "    <tr>\n",
       "      <td>4</td>\n",
       "      <td>3</td>\n",
       "      <td>0.0</td>\n",
       "    </tr>\n",
       "    <tr>\n",
       "      <td>...</td>\n",
       "      <td>...</td>\n",
       "      <td>...</td>\n",
       "    </tr>\n",
       "    <tr>\n",
       "      <td>111</td>\n",
       "      <td>110</td>\n",
       "      <td>446.0</td>\n",
       "    </tr>\n",
       "    <tr>\n",
       "      <td>112</td>\n",
       "      <td>111</td>\n",
       "      <td>660.0</td>\n",
       "    </tr>\n",
       "    <tr>\n",
       "      <td>113</td>\n",
       "      <td>112</td>\n",
       "      <td>270.0</td>\n",
       "    </tr>\n",
       "    <tr>\n",
       "      <td>114</td>\n",
       "      <td>113</td>\n",
       "      <td>452.0</td>\n",
       "    </tr>\n",
       "    <tr>\n",
       "      <td>115</td>\n",
       "      <td>114</td>\n",
       "      <td>333.0</td>\n",
       "    </tr>\n",
       "  </tbody>\n",
       "</table>\n",
       "<p>116 rows × 2 columns</p>\n",
       "</div>"
      ],
      "text/plain": [
       "     date  Ecuador\n",
       "0      -1      0.0\n",
       "1       0      0.0\n",
       "2       1      0.0\n",
       "3       2      0.0\n",
       "4       3      0.0\n",
       "..    ...      ...\n",
       "111   110    446.0\n",
       "112   111    660.0\n",
       "113   112    270.0\n",
       "114   113    452.0\n",
       "115   114    333.0\n",
       "\n",
       "[116 rows x 2 columns]"
      ]
     },
     "execution_count": 57,
     "metadata": {},
     "output_type": "execute_result"
    }
   ],
   "source": [
    "df = df.loc[:,['date','Ecuador']] #Selecciono las columnas de analasis\n",
    "# Expresar las fechas en numero de dias desde el 01 Enero\n",
    "FMT = '%Y-%m-%d'\n",
    "date = df['date']\n",
    "df['date'] = date.map(lambda x : (datetime.strptime(x, FMT) - datetime.strptime(\"2020-01-01\", FMT)).days)\n",
    "df"
   ]
  },
  {
   "cell_type": "code",
   "execution_count": 58,
   "metadata": {},
   "outputs": [
    {
     "data": {
      "text/plain": [
       "<matplotlib.axes._subplots.AxesSubplot at 0x1e6cf8a9308>"
      ]
     },
     "execution_count": 58,
     "metadata": {},
     "output_type": "execute_result"
    },
    {
     "data": {
      "image/png": "[encoded data removed]",
      "text/plain": [
       "<Figure size 432x288 with 1 Axes>"
      ]
     },
     "metadata": {
      "needs_background": "light"
     },
     "output_type": "display_data"
    }
   ],
   "source": [
    "df.plot(x ='date', y='Ecuador')"
   ]
  },
  {
   "cell_type": "markdown",
   "metadata": {},
   "source": [
    "Ahora podemos analizar un modelo probabilisto para el examen.\n",
    "\n",
    "## El modelo basado en probabilidad\n",
    "\n",
    "Para realizar un estimacion del factor de crecimiento de los casos de Covid 19 en Ecuador calculamos la mediana, con esto obtenemo el valor medio de crecimiento de un conjunto de datos, con esto podemos obtener un factor de crecimiento o taza de crecimiento de los nuevos casos.\n",
    "\n"
   ]
  },
  {
   "cell_type": "code",
   "execution_count": 173,
   "metadata": {},
   "outputs": [
    {
     "name": "stdout",
     "output_type": "stream",
     "text": [
      "155.0\n",
      "223.66\n"
     ]
    }
   ],
   "source": [
    "filtro = df[\"Ecuador\"][61:] # Filtro los datos que se empezo a tener casos\n",
    "#Obtenemos la mediana\n",
    "media = filtro.mean()\n",
    "mediana = filtro.median()\n",
    "print(mediana)\n",
    "print(media)\n"
   ]
  },
  {
   "cell_type": "markdown",
   "metadata": {},
   "source": [
    "De la ecuación de la recta y = mX + b nuestra pendiente «m» es el coeficiente y el término independiente «b»\n"
   ]
  },
  {
   "cell_type": "code",
   "execution_count": 127,
   "metadata": {},
   "outputs": [
    {
     "name": "stdout",
     "output_type": "stream",
     "text": [
      "11338\n"
     ]
    }
   ],
   "source": [
    "#Vamos a comprobar:\n",
    "# según la media y la mediana podemos obtener la taza de crecieminto y predicir su comportamiento.\n",
    "# Cargamos los datos de total de casos\n",
    "url = 'https://covid.ourworldindata.org/data/ecdc/total_cases.csv'\n",
    "df_t = pd.read_csv(url)\n",
    "FMT = '%Y-%m-%d'\n",
    "date = df_t['date']\n",
    "df_t['date'] = date.map(lambda x : (datetime.strptime(x, FMT) - datetime.strptime(\"2020-01-01\", FMT)).days)\n",
    "df_t = df_t.loc[:,['date','Ecuador']] #Selecciono las columnas de analasis\n",
    "y = list(df_t.iloc [:, 1]) # Total casos\n",
    "x = list(df_t.iloc [:, 0]) # Dias\n",
    "#Realizamos un ejemplo de prediccion\n",
    "prediccion_siguiente = int(y[-1] + mediana)\n",
    "print(prediccion_siguiente)"
   ]
  },
  {
   "cell_type": "code",
   "execution_count": 128,
   "metadata": {},
   "outputs": [
    {
     "name": "stdout",
     "output_type": "stream",
     "text": [
      "65\n",
      "65\n"
     ]
    },
    {
     "data": {
      "image/png": "[encoded data removed]",
      "text/plain": [
       "<Figure size 432x288 with 1 Axes>"
      ]
     },
     "metadata": {
      "needs_background": "light"
     },
     "output_type": "display_data"
    },
    {
     "name": "stdout",
     "output_type": "stream",
     "text": [
      "12733\n"
     ]
    }
   ],
   "source": [
    "# Quiero predecir cuántos \"Casos\" voy a obtener de aqui a 10 dias.\n",
    "x_respaldo=np.zeros(len(x[61:]))\n",
    "y_respaldo=np.zeros(len(y[61:]))\n",
    "x_real= np.zeros(len(x[61:]))\n",
    "y_real= np.zeros(len(y[61:]))\n",
    "x_respaldo=x[61:]\n",
    "y_respaldo=y[61:]\n",
    "x_real=x[61:]\n",
    "y_real=y[61:]\n",
    "x\n",
    "for i in range(x[-1], x[-1]+10):\n",
    "    x.append(i)\n",
    "    y.append(int(y[-1] + mediana))\n",
    "print(len(y[61:]))\n",
    "print(len(x[61:]))\n",
    "plt.plot(x[61:], y[61:])\n",
    "plt.show()\n",
    "print(y[-1])\n"
   ]
  },
  {
   "cell_type": "code",
   "execution_count": 129,
   "metadata": {},
   "outputs": [
    {
     "name": "stdout",
     "output_type": "stream",
     "text": [
      "[60, 61, 62, 63, 64, 65, 66, 67, 68, 69, 70, 71, 72, 73, 74, 75, 76, 77, 78, 79, 80, 81, 82, 83, 84, 85, 86, 87, 88, 89, 90, 91, 92, 93, 94, 95, 96, 97, 98, 99, 100, 101, 102, 103, 104, 105, 106, 107, 108, 109, 110, 111, 112, 113, 114]\n",
      "[1.0, 6.0, 7.0, 0, 10.0, 13.0, 0, 0, 14.0, 15.0, 17.0, 0, 0, 23.0, 28.0, 37.0, 58.0, 111.0, 168.0, 199.0, 426.0, 532.0, 789.0, 981.0, 1082.0, 1211.0, 1403.0, 1627.0, 1835.0, 1890.0, 1966.0, 2302.0, 2758.0, 3163.0, 3368.0, 3465.0, 3646.0, 3747.0, 3995.0, 4450.0, 4965.0, 7161.0, 7257.0, 7466.0, 7529.0, 7603.0, 7858.0, 8225.0, 8450.0, 9022.0, 9468.0, 10128.0, 10398.0, 10850.0, 11183.0]\n"
     ]
    }
   ],
   "source": [
    "\n",
    "y_real[3]=0\n",
    "y_real[6]=0\n",
    "y_real[7]=0\n",
    "y_real[11]=0\n",
    "y_real[12]=0\n",
    "y_respaldo[3]=0\n",
    "y_respaldo[6]=0\n",
    "y_respaldo[7]=0\n",
    "y_respaldo[11]=0\n",
    "y_respaldo[12]=0\n",
    "print(x_real)\n",
    "print(y_real)"
   ]
  },
  {
   "cell_type": "markdown",
   "metadata": {},
   "source": [
    "# Practica\n",
    "\n",
    "1. Comparar el modelo de predicion matematico vs probabilidad.\n",
    "2. Generar el SIR en base al modelo de probabilidad y obtener beta y gamma con una semana de prediccion.\n",
    "3. Retroceder un semana y comparar el modelo matematico vs probabilidad vs reales. Solo cargan los datos para generar los modelos menos 7 dias.\n",
    "\n",
    "Puntos extras: Investigas sobre la correlacion de variables y aplicar el calculo en base a los datos del Ecuador."
   ]
  },
  {
   "cell_type": "markdown",
   "metadata": {},
   "source": [
    "# Comparar el modelo de predicion matematico vs probabilidad"
   ]
  },
  {
   "cell_type": "code",
   "execution_count": 86,
   "metadata": {},
   "outputs": [
    {
     "name": "stdout",
     "output_type": "stream",
     "text": [
      "10666.184415584421\n",
      "16843.024341299235\n",
      "16737.820597040416\n",
      "13218.500316102174\n",
      "11328.990332264279\n"
     ]
    },
    {
     "data": {
      "text/plain": [
       "<matplotlib.legend.Legend at 0x1e6d0e6d508>"
      ]
     },
     "execution_count": 86,
     "metadata": {},
     "output_type": "execute_result"
    },
    {
     "data": {
      "image/png": "[encoded data removed]",
      "text/plain": [
       "<Figure size 432x288 with 1 Axes>"
      ]
     },
     "metadata": {
      "needs_background": "light"
     },
     "output_type": "display_data"
    }
   ],
   "source": [
    "# Calcular ajustes para diferentes grados\n",
    "import numpy as np\n",
    "import matplotlib.pyplot as plt\n",
    "plt.plot(x_real, y_real)\n",
    "sols = {}\n",
    "for grado in range(1,6):\n",
    "  z = np.polyfit(x_real, y_real, grado, full=True)\n",
    "  sols[grado] = z\n",
    "xp = np.array(range(60,130))\n",
    "for grado, sol in sols.items():\n",
    "  coefs, error, *_ = sol\n",
    "  p = np.poly1d(coefs)\n",
    "  print(p(123))  \n",
    "  plt.plot(xp, p(xp), \"-\", label=\"Gr: %s. Error %.3f\" % (grado, error) )\n",
    "plt.legend()"
   ]
  },
  {
   "cell_type": "markdown",
   "metadata": {},
   "source": [
    "# Generar el SIR en base al modelo de probabilidad y obtener beta y gamma con una semana de prediccion."
   ]
  },
  {
   "cell_type": "code",
   "execution_count": 169,
   "metadata": {},
   "outputs": [
    {
     "name": "stdout",
     "output_type": "stream",
     "text": [
      "62\n",
      "62\n",
      "[1.0, 6.0, 7.0, 0, 10.0, 13.0, 0, 0, 14.0, 15.0, 17.0, 0, 0, 23.0, 28.0, 37.0, 58.0, 111.0, 168.0, 199.0, 426.0, 532.0, 789.0, 981.0, 1082.0, 1211.0, 1403.0, 1627.0, 1835.0, 1890.0, 1966.0, 2302.0, 2758.0, 3163.0, 3368.0, 3465.0, 3646.0, 3747.0, 3995.0, 4450.0, 4965.0, 7161.0, 7257.0, 7466.0, 7529.0, 7603.0, 7858.0, 8225.0, 8450.0, 9022.0, 9468.0, 10128.0, 10398.0, 10850.0, 11183.0, 12214, 13245, 14276, 15307, 16338, 17369, 18400]\n"
     ]
    }
   ],
   "source": [
    "x_semana= np.zeros(len(x[61:]))\n",
    "y_semana= np.zeros(len(y[61:]))\n",
    "for i in range(x_real[-1], x_real[-1]+7):\n",
    "    x_real.append(i)\n",
    "    y_real.append(int(y_real[-1] + mediana))\n",
    "print(len(y_real))\n",
    "print(len(x_real))\n",
    "print(y_real)"
   ]
  },
  {
   "cell_type": "code",
   "execution_count": 180,
   "metadata": {},
   "outputs": [
    {
     "name": "stdout",
     "output_type": "stream",
     "text": [
      "=======\n",
      "0.13620760627744413\n",
      "12804.928808966084\n",
      "==== R0 ===\n",
      "1.0637123275692934e-05\n",
      "=======\n",
      "==susceptibles==\n",
      "25498.999989363194\n",
      "=======\n",
      "==Recuperados==\n",
      "1.000010636819271\n",
      "=======\n"
     ]
    },
    {
     "data": {
      "text/plain": [
       "<function matplotlib.pyplot.show(*args, **kw)>"
      ]
     },
     "execution_count": 180,
     "metadata": {},
     "output_type": "execute_result"
    },
    {
     "data": {
      "image/png": "[encoded data removed]",
      "text/plain": [
       "<Figure size 432x288 with 1 Axes>"
      ]
     },
     "metadata": {},
     "output_type": "display_data"
    }
   ],
   "source": [
    "import numpy as np \n",
    "from datetime import datetime,timedelta\n",
    "from scipy.integrate import odeint\n",
    "import matplotlib.pyplot as plt\n",
    "import pandas as pd,requests,sys,numpy as np, matplotlib, math, matplotlib.pyplot as plt,scipy\n",
    "from bs4 import BeautifulSoup\n",
    "from scipy.integrate import solve_ivp\n",
    "from scipy.optimize import minimize\n",
    "\n",
    "from IPython.display import display\n",
    "\n",
    "\n",
    "\n",
    "def loss(point, data, recovered, s_0, i_0, r_0):\n",
    "     \n",
    "    size = len(data)\n",
    "    beta, gamma = point\n",
    "    \n",
    "    def SIR(t, y):\n",
    "        S = y[0]\n",
    "        I = y[1]\n",
    "        R = y[2]\n",
    "        return [-beta*S*I, beta*S*I-gamma*I, gamma*I]\n",
    "    solution = solve_ivp(SIR, [0, size], [s_0,i_0,r_0], t_eval=np.arange(0, size, 1), vectorized=True)\n",
    "    l1 = np.sqrt(np.mean((solution.y[1] - data)**2))\n",
    "    l2 = np.sqrt(np.mean((solution.y[2] - recovered)**2))\n",
    "    alpha = 0.1\n",
    "    return alpha * l1 + (1 - alpha) * l2\n",
    "\n",
    "data = (y_real)\n",
    " \n",
    "# Total de la poblacion\n",
    "N = 25500\n",
    "# Numero Inicial de Infectados\n",
    "I0 = 1\n",
    "# Numero de Recuperados\n",
    "R0 = 0\n",
    "# Todos los demás, S0, son susceptibles a la infección inicialmente.\n",
    "S0 = N - I0 - R0\n",
    "\n",
    "optimal = minimize(loss, [0.001,0.001], args=(data, y_real, S0, I0, R0), method='L-BFGS-B', bounds=[(0.00000001, 0.4), (0.00000001, 0.4)])\n",
    "\n",
    "beta, gamma = optimal.x\n",
    "\n",
    "\n",
    "beta *= 10000\n",
    "gamma *= 100000 \n",
    "\n",
    "# Tasa de contacto, beta (nivel de repoductividad del virus) \n",
    "# La tasa de recuperación media, gamma,(1/días) Una persona se recupera en 15 dias.\n",
    "#beta, gamma = 0.589,0.045\n",
    "# Una cuadrícula de puntos de tiempo (en días)\n",
    "t = np.linspace(0, 20000,20000)\n",
    "print(\"=======\")\n",
    "print(beta)\n",
    "print(gamma)\n",
    "print(\"==== R0 ===\")\n",
    "print(beta/gamma)\n",
    "print(\"=======\") \n",
    "# Las ecuaciones diferenciales del modelo SIR..\n",
    "def deriv(y, t, N, beta, gamma):\n",
    "    S, I, R = y\n",
    "    dSdt = -beta * S * I / N \n",
    "    dIdt = beta * S * I / N - gamma * I\n",
    "    dRdt = gamma * I\n",
    "    return dSdt, dIdt, dRdt\n",
    "\n",
    "# Vector de condiciones iniciales\n",
    "y0 = S0, I0, R0\n",
    "# Integre las ecuaciones SIR en la cuadrícula de tiempo, t. A traves de la funcion odeint()\n",
    "ret = odeint(deriv, y0, t, args=(N, beta, gamma))\n",
    "S, I, R = ret.T # Obtenicion de resultados\n",
    "\n",
    "print(\"==susceptibles==\")\n",
    "print(S[len(S)-1])\n",
    "print(\"=======\") \n",
    "print(\"==Recuperados==\")\n",
    "print(R[len(R)-1])\n",
    "print(\"=======\")\n",
    "#  Trace los datos en tres curvas separadas para S (t), I (t) y R (t)\n",
    "fig = plt.figure(facecolor='w')\n",
    "ax = fig.add_subplot(111,  axisbelow=True)\n",
    "ax.plot(t, S, 'b', alpha=0.5, lw=2, label='Sustible de infeccion')\n",
    "ax.plot(t, I, 'r', alpha=0.5, lw=2, label='Infectados')\n",
    "ax.plot(t, R, 'g', alpha=0.5, lw=2, label='Recuperados')\n",
    "ax.set_xlabel('Tiempo en dias')\n",
    "ax.set_ylabel('Numero de Personas')\n",
    "ax.set_ylim(0,N*1.2)\n",
    "ax.yaxis.set_tick_params(length=0)\n",
    "ax.xaxis.set_tick_params(length=0)\n",
    "ax.grid(b=True, which='major', c='w', lw=2, ls='-')\n",
    "legend = ax.legend()\n",
    "legend.get_frame().set_alpha(0.5)\n",
    "for spine in ('top', 'right', 'bottom', 'left'):\n",
    "    ax.spines[spine].set_visible(False)\n",
    "plt.show"
   ]
  },
  {
   "cell_type": "markdown",
   "metadata": {},
   "source": [
    "# Retroceder un semana y comparar el modelo matematico vs probabilidad vs reales. Solo cargan los datos para generar los modelos menos 7 dias."
   ]
  },
  {
   "cell_type": "code",
   "execution_count": 160,
   "metadata": {},
   "outputs": [
    {
     "name": "stdout",
     "output_type": "stream",
     "text": [
      "8225.0\n"
     ]
    }
   ],
   "source": [
    "x_entrenar= np.zeros(len(x_respaldo)-7)\n",
    "y_entrenar= np.zeros(len(y_respaldo)-7)\n",
    "\n",
    "x_test= np.zeros(7)\n",
    "y_test= np.zeros(7)\n",
    "for i in range(len(x_respaldo)-7):\n",
    "    x_entrenar[i]=x_respaldo[i]\n",
    "    y_entrenar[i]=y_respaldo[i]\n",
    "for i in range(7):\n",
    "    x_test[i]=x_respaldo[48+i]\n",
    "    y_test[i]=y_respaldo[48+i]\n",
    "x_entrenar_poli= np.zeros(len(x_entrenar))\n",
    "y_entrenar_poli= np.zeros(len(y_entrenar))\n",
    "x_entrenar_poli=x_entrenar\n",
    "y_entrenar_poli=y_entrenar\n",
    "print(y_entrenar[-1])"
   ]
  },
  {
   "cell_type": "code",
   "execution_count": 178,
   "metadata": {},
   "outputs": [
    {
     "name": "stdout",
     "output_type": "stream",
     "text": [
      "########\n",
      "155.0\n",
      "185.4390243902439\n",
      "########\n",
      "8380.0\n",
      "8535.0\n",
      "8690.0\n",
      "8845.0\n",
      "9000.0\n",
      "9155.0\n",
      "9310.0\n",
      "########\n",
      "Reales\n",
      "8450.0\n",
      "9022.0\n",
      "9468.0\n",
      "10128.0\n",
      "10398.0\n",
      "10850.0\n",
      "11183.0\n",
      "########\n"
     ]
    },
    {
     "data": {
      "image/png": "[encoded data removed]",
      "text/plain": [
       "<Figure size 432x288 with 1 Axes>"
      ]
     },
     "metadata": {
      "needs_background": "light"
     },
     "output_type": "display_data"
    }
   ],
   "source": [
    "\n",
    "filtro2 = df[\"Ecuador\"][61:107] # Filtro los datos que se empezo a tener casos\n",
    "media = filtro2.mean()\n",
    "mediana = filtro.median()\n",
    "print(\"########\")\n",
    "print(mediana)\n",
    "print(media)\n",
    "print(\"########\")\n",
    "\n",
    "x_prec_esta=np.zeros(len(x_entrenar)+7)\n",
    "y_prec_esta=np.zeros(len(y_entrenar)+7)\n",
    "for i in range(len(x_entrenar)+7):\n",
    "    x_prec_esta[i]=60+i\n",
    "    if i <= 47:\n",
    "        y_prec_esta[i]=y_entrenar[i]\n",
    "    else:\n",
    "        y_prec_esta[i]=y_prec_esta[i-1]+mediana    \n",
    "for i in range(7):\n",
    "    print(y_prec_esta[48+i])\n",
    "print(\"########\")\n",
    "print(\"Reales\")\n",
    "for i in range(7):\n",
    "    print(y_test[i])\n",
    "print(\"########\")\n",
    "plt.plot(x_entrenar, y_entrenar)\n",
    "plt.show()"
   ]
  },
  {
   "cell_type": "code",
   "execution_count": 156,
   "metadata": {},
   "outputs": [
    {
     "name": "stdout",
     "output_type": "stream",
     "text": [
      "funcion\n",
      "6349.265957446811\n",
      "6520.488547546682\n",
      "6691.711137646549\n",
      "6862.93372774642\n",
      "7034.156317846291\n",
      "7205.3789079461585\n",
      "7376.6014980460295\n",
      "funcion\n",
      "8978.599618408854\n",
      "9471.781432300006\n",
      "9977.841615142795\n",
      "10496.780166937238\n",
      "11028.59708768333\n",
      "11573.292377381073\n",
      "12130.866036030464\n",
      "funcion\n",
      "9404.433446397348\n",
      "10001.90109571425\n",
      "10622.675697525383\n",
      "11267.166215891231\n",
      "11935.781614872287\n",
      "12628.930858529044\n",
      "13347.022910922014\n",
      "funcion\n",
      "9171.552449215058\n",
      "9673.966630293988\n",
      "10182.578139584424\n",
      "10696.230354610889\n",
      "11213.706438031542\n",
      "11733.729337638099\n",
      "12254.961786354485\n",
      "funcion\n",
      "8871.706388265826\n",
      "9190.541348354542\n",
      "9464.171454774565\n",
      "9683.376997700194\n",
      "9838.180285257287\n",
      "9917.819312705891\n",
      "9910.721431573154\n"
     ]
    },
    {
     "data": {
      "text/plain": [
       "<matplotlib.legend.Legend at 0x1e6d0a06108>"
      ]
     },
     "execution_count": 156,
     "metadata": {},
     "output_type": "execute_result"
    },
    {
     "data": {
      "image/png": "[encoded data removed]",
      "text/plain": [
       "<Figure size 432x288 with 1 Axes>"
      ]
     },
     "metadata": {
      "needs_background": "light"
     },
     "output_type": "display_data"
    }
   ],
   "source": [
    "import numpy as np\n",
    "import matplotlib.pyplot as plt\n",
    "plt.plot(x_entrenar_poli, y_entrenar_poli)\n",
    "sols = {}\n",
    "for grado in range(1,6):\n",
    "  z = np.polyfit(x_entrenar_poli, y_entrenar_poli, grado, full=True)\n",
    "  sols[grado] = z\n",
    "xp = np.array(range(60,114))\n",
    "for grado, sol in sols.items():\n",
    "  coefs, error, *_ = sol\n",
    "  p = np.poly1d(coefs)\n",
    "  print(\"funcion\")  \n",
    "  for i in range(7):\n",
    "    print(p(108+i))\n",
    "  plt.plot(xp, p(xp), \"-\", label=\"Gr: %s. Error %.3f\" % (grado, error) )\n",
    "plt.legend()"
   ]
  },
  {
   "cell_type": "markdown",
   "metadata": {},
   "source": [
    "## Analisis\n",
    "en el analisis tenemos los siguientes datos en el modelo Probabilidad tenemos los siguientes datos:\n",
    "                        \n",
    "                        8380.0\n",
    "                        8535.0\n",
    "                        8690.0\n",
    "                        8845.0\n",
    "                        9000.0\n",
    "                        9155.0\n",
    "                        9310.0\n",
    "\n",
    "el modelo polinomico de tecer grado tenemos:\n",
    "\n",
    "                        9404.433446397348\n",
    "                        10001.90109571425\n",
    "                        10622.675697525383\n",
    "                        11267.166215891231\n",
    "                        11935.781614872287\n",
    "                        12628.930858529044\n",
    "                        13347.022910922014\n",
    "\n",
    "los datos reales son\n",
    "                        8450.0\n",
    "                        9022.0\n",
    "                        9468.0\n",
    "                        10128.0\n",
    "                        10398.0\n",
    "                        10850.0\n",
    "                        11183.0\n",
    "\n",
    "\n",
    "## Conclusiones\n",
    "\n",
    "pódemos decir que en base a los resultados obtenidos el modelo que mejor se adapta es el modelo polinomico ya que este no tiene mucho diferencia con los datos reales de los ultimos dias\n",
    "\n",
    "el modelo de probabilidad esta muy cercano a la primeras cifras reales pero mediante van pasado los dias la diferencia entra ambas va crecierdo de manera muy alta\n",
    "\n",
    "## Criterio personal (politico, economico y  social de la situacion)\n",
    "\n",
    "Politica: con respecto a la parte politica en el pais hay un descontento con respecto a nuestra maxima autoridad que el presidente debido al poco interes de su parte esto genra que las personas se sientan un poco desprotegidas pro parte de su mandatario y dado a lugar qu nuevas figuras politicas sobresalgana a la luz asi como el vicepresidente, lo que si ha sido evidente lo poco y mal preparados que estamos para este tipo de emergencias\n",
    "\n",
    "Economica: la parte economica sera una de las mas afectadas debido a la para de las fabricas como las falta de turismo exportaciones y demas actos economicos, estos era un duro golpe para el país esperemos que al final de emergia todo se normalise a nivel nacional \n",
    "\n",
    "Social: en el ambito social se tiene el pais tiene que aprender a tener una costumbre de comunicacion real debido ala fala informacion enla provicia del guayas a la falta de conocimiento en foco de epidemia se les ha ido de las manos y las oersionas siguen sin entender los cual es lamentable socialmetne el pais debe mejorar un monton  \n",
    "\n"
   ]
  },
  {
   "cell_type": "markdown",
   "metadata": {},
   "source": [
    "# Referencias\n",
    "\n",
    "- https://www.researchgate.net/publication/340092755_Infeccion_del_Covid-19_en_Colombia_Una_comparacion_de_modelos_logisticos_y_exponenciales_aplicados_a_la_infeccion_por_el_virus_en_Colombia\n",
    "\n",
    "- https://www.aprendemachinelearning.com/regresion-lineal-en-espanol-con-python/"
   ]
  }
 ],
 "metadata": {
  "kernelspec": {
   "display_name": "Python 3",
   "language": "python",
   "name": "python3"
  },
  "language_info": {
   "codemirror_mode": {
    "name": "ipython",
    "version": 3
   },
   "file_extension": ".py",
   "mimetype": "text/x-python",
   "name": "python",
   "nbconvert_exporter": "python",
   "pygments_lexer": "ipython3",
   "version": "3.7.4"
  }
 },
 "nbformat": 4,
 "nbformat_minor": 2
}
