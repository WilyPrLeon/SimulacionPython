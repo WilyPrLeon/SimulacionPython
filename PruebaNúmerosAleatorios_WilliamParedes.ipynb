{
 "cells": [
  {
   "cell_type": "markdown",
   "metadata": {},
   "source": [
    "# Prueba \n",
    "\n",
    "### Nombre: William Paredes \n",
    "\n",
    "Se buscar encontrar la eficiencia de la generación de números pseudo-aletorios a través de los métodos de cuadrados medios y congruencia lineal, para ello se debe seguir el siguiente proceso:\n",
    "\n",
    "1. A traves de la misma api generar una semilla diferente. \n",
    "\n",
    "2. Encontrar el numero de iteraciones hasta que se repita uno de sus datos.\n",
    "\n",
    "3. Generar 100 simulaciones con diferentes semillas.\n",
    "\n",
    "4. Generar un histograma con el resultado obtenidos por cada método.\n",
    "\n",
    "5. Agregar sus conclusiones, opiniones y recomendaciones\n",
    "\n",
    "Se debe generar un cuaderno de python para la simulación y subir dentro de este apartado."
   ]
  },
  {
   "cell_type": "markdown",
   "metadata": {},
   "source": [
    "# Metodo Cuadrados Medios"
   ]
  },
  {
   "cell_type": "code",
   "execution_count": 91,
   "metadata": {},
   "outputs": [
    {
     "name": "stdout",
     "output_type": "stream",
     "text": [
      "[81, 43, 81, 72, 25, 17, 78, 87, 87, 84, 30, 104, 28, 84, 73, 15, 6, 70, 5, 35, 74, 77, 23, 8, 6, 70, 5, 35, 74, 77, 23, 8, 6, 70, 5, 35, 74, 77, 23, 8, 6, 70, 5, 35, 74, 77, 23, 8, 6, 70, 5, 35, 74, 77, 23, 8, 6, 70, 5, 35, 74, 77, 23, 8, 6, 70, 5, 35, 74, 77, 23, 8, 6, 70, 5, 35, 74, 77, 23, 8, 6, 70, 5, 35, 74, 77, 23, 8, 6, 70, 5, 35, 74, 77, 23, 8, 6, 70, 5, 35]\n"
     ]
    }
   ],
   "source": [
    "Semilla=43242\n",
    "Digitos=4\n",
    "nu=\"1\"\n",
    "iteraciones=[]\n",
    "for i in range(0,Digitos):\n",
    "    nu=nu+\"0\"\n",
    "for j in range(0,100):\n",
    "    i=1\n",
    "    xn=[]\n",
    "    val= True\n",
    "    while val:\n",
    "        semilla3=Semilla\n",
    "        Semilla2=semilla3*semilla3\n",
    "        palabra=str(Semilla2)\n",
    "        longitud=len(palabra)\n",
    "        para1=(int((longitud/2))-int((Digitos/2)))\n",
    "        para2=(int((longitud/2))+int((Digitos/2)))\n",
    "        Res=palabra[int(para1):int(para2)]\n",
    "        aleatorio=float(Res)/float(nu)\n",
    "        Semilla=int(Res)\n",
    "        if (i==1):\n",
    "            xn.append(Res)\n",
    "            i=i+1\n",
    "        else:\n",
    "            for x in range(0,len(xn)):\n",
    "                if (xn[x]==Res):\n",
    "                    iteraciones.append(i)\n",
    "                    Semilla=int(xn[0])+100-5\n",
    "                    val=False\n",
    "            xn.append(Res)\n",
    "            i=i+1\n",
    "print(iteraciones)"
   ]
  },
  {
   "cell_type": "code",
   "execution_count": 92,
   "metadata": {},
   "outputs": [
    {
     "name": "stdout",
     "output_type": "stream",
     "text": [
      "11\n"
     ]
    },
    {
     "data": {
      "image/png": "[encoded data removed]",
      "text/plain": [
       "<Figure size 432x288 with 1 Axes>"
      ]
     },
     "metadata": {
      "needs_background": "light"
     },
     "output_type": "display_data"
    }
   ],
   "source": [
    "%matplotlib inline\n",
    "from matplotlib import pyplot as plt\n",
    "#print(iteraciones)\n",
    "aux=[]              \n",
    "repetido = []\n",
    "unico = []\n",
    "valores = iteraciones\n",
    "cont=[]\n",
    "\n",
    "def frecuencia(lista,valor):\n",
    "    \n",
    "    aux=0\n",
    "    for i in valor:\n",
    "        for j in lista:\n",
    "            if i == j:\n",
    "                aux=aux+1 \n",
    "        cont.append(aux)\n",
    "        aux=0\n",
    "    return cont\n",
    "\n",
    "for x in valores:\n",
    "    del aux[:]\n",
    "    if x not in unico:\n",
    "        unico.append(x)\n",
    "    else:\n",
    "        if x not in repetido:\n",
    "            repetido.append(x)\n",
    "fra=frecuencia(valores,repetido)\n",
    "\n",
    "print(len(repetido))\n",
    "fechas = repetido\n",
    "primas = cont\n",
    "plt.bar(range(len(repetido)), primas, edgecolor='black')\n",
    "plt.xticks(range(len(repetido)), fechas, rotation=60)\n",
    "plt.title(\"Metodo Cuadrados Medios\")\n",
    "plt.ylim(min(primas)-1, max(primas)+1)\n",
    "plt.show()"
   ]
  },
  {
   "cell_type": "markdown",
   "metadata": {},
   "source": [
    "# Metodo Congruencia Lineal"
   ]
  },
  {
   "cell_type": "code",
   "execution_count": 88,
   "metadata": {},
   "outputs": [
    {
     "name": "stdout",
     "output_type": "stream",
     "text": [
      "[4, 2, 5, 4, 7, 3, 10, 5, 6, 5, 13, 2, 13, 5, 9, 10, 10, 2, 7, 6, 23, 6, 21, 13, 28, 8, 29, 13, 2, 5, 16, 9, 13, 11, 37, 10, 13, 7, 21, 7, 8, 7, 37, 2, 47, 6, 43, 21, 25, 14, 53, 28, 6, 9, 10, 29, 30, 14, 61, 11, 10, 6, 13, 16, 34, 9, 67, 5, 71, 12, 19, 37, 61, 3, 31, 13, 79, 4, 82, 21, 42, 8, 9, 8, 85, 7, 23, 37, 13, 23, 31, 47, 10, 8, 49, 43, 46, 6, 101, 25]\n",
      "100\n"
     ]
    }
   ],
   "source": [
    "a=1\n",
    "b=1\n",
    "Semilla=4480\n",
    "m=3\n",
    "iteraciones=[]\n",
    "for j in range(0,100):\n",
    "    i=1\n",
    "    ui1=[]\n",
    "    xn=0\n",
    "    ui=0.0\n",
    "    aux=0\n",
    "    val= True\n",
    "    xn=Semilla\n",
    "    while val:\n",
    "        aux=((a*xn)+b)%(m)\n",
    "        ui=aux/m\n",
    "        xn=aux\n",
    "        if (i==1):\n",
    "            ui1.append(ui)\n",
    "            i=i+1\n",
    "        else:\n",
    "            for x in range(0,len(ui1)):\n",
    "                if (ui1[x]==ui):\n",
    "                    iteraciones.append(i)\n",
    "                    Semilla=int(xn)\n",
    "                    a=a+1\n",
    "                    b=b+3\n",
    "                    m=m+1\n",
    "                    val=False\n",
    "            ui1.append(ui)\n",
    "            i=i+1\n",
    "print(iteraciones)\n",
    "print(len(iteraciones))"
   ]
  },
  {
   "cell_type": "code",
   "execution_count": 89,
   "metadata": {},
   "outputs": [
    {
     "name": "stdout",
     "output_type": "stream",
     "text": [
      "[4, 2, 5, 4, 7, 3, 10, 5, 6, 5, 13, 2, 13, 5, 9, 10, 10, 2, 7, 6, 23, 6, 21, 13, 28, 8, 29, 13, 2, 5, 16, 9, 13, 11, 37, 10, 13, 7, 21, 7, 8, 7, 37, 2, 47, 6, 43, 21, 25, 14, 53, 28, 6, 9, 10, 29, 30, 14, 61, 11, 10, 6, 13, 16, 34, 9, 67, 5, 71, 12, 19, 37, 61, 3, 31, 13, 79, 4, 82, 21, 42, 8, 9, 8, 85, 7, 23, 37, 13, 23, 31, 47, 10, 8, 49, 43, 46, 6, 101, 25]\n",
      "23\n"
     ]
    },
    {
     "data": {
      "image/png": "[encoded data removed]",
      "text/plain": [
       "<Figure size 432x288 with 1 Axes>"
      ]
     },
     "metadata": {
      "needs_background": "light"
     },
     "output_type": "display_data"
    }
   ],
   "source": [
    "%matplotlib inline\n",
    "from matplotlib import pyplot as plt\n",
    "print(iteraciones)\n",
    "aux=[]              \n",
    "repetido = []\n",
    "unico = []\n",
    "valores = iteraciones\n",
    "cont=[]\n",
    "\n",
    "def frecuencia(lista,valor): \n",
    "    aux=0\n",
    "    for i in valor:\n",
    "        for j in lista:\n",
    "            if i == j:\n",
    "                aux=aux+1 \n",
    "        cont.append(aux)\n",
    "        aux=0\n",
    "    return cont\n",
    "\n",
    "for x in valores:\n",
    "    del aux[:]\n",
    "    if x not in unico:\n",
    "        unico.append(x)\n",
    "    else:\n",
    "        if x not in repetido:\n",
    "            repetido.append(x)\n",
    "\n",
    "fra=frecuencia(valores,repetido)\n",
    "print(len(repetido))\n",
    "fechas = repetido\n",
    "primas = cont\n",
    "plt.bar(range(len(repetido)), primas, edgecolor='black')\n",
    "plt.xticks(range(len(repetido)), fechas, rotation=60)\n",
    "plt.title(\"Metodo Congruencia Lineal\")\n",
    "plt.ylim(min(primas)-1, max(primas)+1)\n",
    "plt.show()"
   ]
  },
  {
   "cell_type": "markdown",
   "metadata": {},
   "source": [
    "# Conclusiones\n",
    "\n",
    "        Por lo que podemos apreciar en la diferentes Graficas en el Primer metodo podemos apreciar como no existe muchos coincidencias en las iteraciones mientras que el segundo es casi el doble por lo que existe una taza mas alta de numeros repetidos\n",
    "    \n",
    "\n",
    "# Opiniones \n",
    "\n",
    "    Con respecto alas pruebas realizadas podemos decir que el metodo mas rentable seria de Cuadrados medio debido al poco casos de repeticiones en las iteraciones ademas como tiene muchas iteraciones altas \n",
    "\n",
    "# Recomendaciones\n",
    "\n",
    "    Deberiamos usar numeros altos como semillaS\n",
    "    Al momento de manipular a,b y m sumar numeros primos\n",
    "    Hacer varias pruebas para obtener resultados deseados"
   ]
  }
 ],
 "metadata": {
  "kernelspec": {
   "display_name": "Python 3",
   "language": "python",
   "name": "python3"
  },
  "language_info": {
   "codemirror_mode": {
    "name": "ipython",
    "version": 3
   },
   "file_extension": ".py",
   "mimetype": "text/x-python",
   "name": "python",
   "nbconvert_exporter": "python",
   "pygments_lexer": "ipython3",
   "version": "3.7.4"
  }
 },
 "nbformat": 4,
 "nbformat_minor": 2
}
