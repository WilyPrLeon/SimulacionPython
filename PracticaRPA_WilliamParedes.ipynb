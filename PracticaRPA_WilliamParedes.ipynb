{
 "cells": [
  {
   "cell_type": "markdown",
   "metadata": {},
   "source": [
    " # Practica RPA\n",
    "\n",
    "### Nombre: William Paredes\n",
    "### Fecha: 27/07/2020\n",
    "\n",
    "Realizar un cuaderno en donde se ejemplifique el uso de uno de los siguientes componentes, es importante destacar que este proceso de ejemplificación se debe realizar tanto desde la plataforma web como desde el uso del API de python, agregar imagenes del proceso de ejecución. Finalmente este proceso es individual, se debe realizar y plantearse un problema de solución.\n",
    "\n",
    "# Problema \n",
    "Sacar el texto de una imagen y posteriormente Relizar una captura de Pantalla y manipularla con diferentes tecnicas de procesamiento"
   ]
  },
  {
   "cell_type": "markdown",
   "metadata": {},
   "source": [
    "# OCR\n",
    "- Esta actividad extrae todo el texto de la pantalla actual o una imagen si se especifica una ruta."
   ]
  },
  {
   "cell_type": "code",
   "execution_count": 13,
   "metadata": {},
   "outputs": [
    {
     "data": {
      "text/plain": [
       "'    NO PISAR EL 3 PASTO  '"
      ]
     },
     "execution_count": 13,
     "metadata": {},
     "output_type": "execute_result"
    }
   ],
   "source": [
    "from automagica import *\n",
    "open_file(\"img1.jpg\")\n",
    "extract_text_ocr(r\"img1.jpg\")"
   ]
  },
  {
   "cell_type": "markdown",
   "metadata": {},
   "source": [
    "# Image Processing\n",
    "\n",
    "- Rotacion\n",
    "- Cambia el tamaño de la imagen especificada por la variable de ruta\n",
    "- Cambiar el tamaño de la imagen\n",
    "- Conseguir con de imagen\n",
    "- Recorta la imagen especificada por la ruta a una región determinada por la variable de cuadro\n",
    "- Refleja una imagen con una ruta dada horizontalmente de izquierda a derecha.\n",
    "- Refleja una imagen con una ruta dada verticalmente de arriba a abajo."
   ]
  },
  {
   "cell_type": "code",
   "execution_count": 15,
   "metadata": {},
   "outputs": [],
   "source": [
    "testimage = take_screenshot()\n",
    "rotate_image(testimage)\n",
    "show_image(testimage)"
   ]
  },
  {
   "cell_type": "code",
   "execution_count": 16,
   "metadata": {},
   "outputs": [],
   "source": [
    "testimage = take_screenshot()\n",
    "resize_image(testimage, size=(100,100))\n",
    "show_image(testimage)"
   ]
  },
  {
   "cell_type": "code",
   "execution_count": 17,
   "metadata": {},
   "outputs": [
    {
     "data": {
      "text/plain": [
       "1920"
      ]
     },
     "execution_count": 17,
     "metadata": {},
     "output_type": "execute_result"
    }
   ],
   "source": [
    "testimage = take_screenshot()\n",
    "get_image_width(testimage)"
   ]
  },
  {
   "cell_type": "code",
   "execution_count": 18,
   "metadata": {},
   "outputs": [],
   "source": [
    "show_image(testimage)\n",
    "crop_image(testimage, box = (10,10,100,100))\n",
    "show_image(testimage)"
   ]
  },
  {
   "cell_type": "code",
   "execution_count": 19,
   "metadata": {},
   "outputs": [],
   "source": [
    "testimage = take_screenshot()\n",
    "mirror_image_horizontally(testimage)\n",
    "show_image(testimage)"
   ]
  },
  {
   "cell_type": "code",
   "execution_count": 20,
   "metadata": {},
   "outputs": [],
   "source": [
    "testimage = take_screenshot()\n",
    "mirror_image_vertically(testimage)\n",
    "show_image(testimage)"
   ]
  }
 ],
 "metadata": {
  "kernelspec": {
   "display_name": "Python 3",
   "language": "python",
   "name": "python3"
  },
  "language_info": {
   "codemirror_mode": {
    "name": "ipython",
    "version": 3
   },
   "file_extension": ".py",
   "mimetype": "text/x-python",
   "name": "python",
   "nbconvert_exporter": "python",
   "pygments_lexer": "ipython3",
   "version": "3.7.4"
  }
 },
 "nbformat": 4,
 "nbformat_minor": 2
}
