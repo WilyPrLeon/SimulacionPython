{
 "cells": [
  {
   "cell_type": "markdown",
   "metadata": {},
   "source": [
    "# Concurrencia Lineal"
   ]
  },
  {
   "cell_type": "code",
   "execution_count": 38,
   "metadata": {},
   "outputs": [
    {
     "name": "stdout",
     "output_type": "stream",
     "text": [
      "Escriba la a :\n",
      "3\n",
      "Escriba la b :\n",
      "5\n",
      "Escriba la semilla :\n",
      "4440\n",
      "Escriba m :\n",
      "19\n",
      "Escriba las iteraciones :\n",
      "10\n"
     ]
    }
   ],
   "source": [
    "print(\"Escriba la a :\")\n",
    "semta=int(input())\n",
    "a=semta\n",
    "print(\"Escriba la b :\")\n",
    "semtb=int(input())\n",
    "b=semtb\n",
    "print(\"Escriba la semilla :\")\n",
    "semt=int(input())\n",
    "Semilla=semt\n",
    "print(\"Escriba m :\")\n",
    "semt2=int(input())\n",
    "m=semt2\n",
    "print(\"Escriba las iteraciones :\")\n",
    "semt3=int(input())\n",
    "interaciones=semt3\n",
    "xn=0\n",
    "ui=0.0\n",
    "xn1=[]\n",
    "Result=[]\n",
    "aux=0\n",
    "xn=Semilla\n",
    "for i in range(0,interaciones):\n",
    "    aux=((a*xn)+b)%(m)\n",
    "    ui=aux/m\n",
    "    xn=aux\n",
    "    xn1.append(xn)\n",
    "    Result.append(ui)"
   ]
  },
  {
   "cell_type": "code",
   "execution_count": 39,
   "metadata": {},
   "outputs": [
    {
     "data": {
      "text/html": [
       "<div>\n",
       "<style scoped>\n",
       "    .dataframe tbody tr th:only-of-type {\n",
       "        vertical-align: middle;\n",
       "    }\n",
       "\n",
       "    .dataframe tbody tr th {\n",
       "        vertical-align: top;\n",
       "    }\n",
       "\n",
       "    .dataframe thead th {\n",
       "        text-align: right;\n",
       "    }\n",
       "</style>\n",
       "<table border=\"1\" class=\"dataframe\">\n",
       "  <thead>\n",
       "    <tr style=\"text-align: right;\">\n",
       "      <th></th>\n",
       "      <th>XN</th>\n",
       "      <th>UI</th>\n",
       "    </tr>\n",
       "  </thead>\n",
       "  <tbody>\n",
       "    <tr>\n",
       "      <td>0</td>\n",
       "      <td>6</td>\n",
       "      <td>0.315789</td>\n",
       "    </tr>\n",
       "    <tr>\n",
       "      <td>1</td>\n",
       "      <td>4</td>\n",
       "      <td>0.210526</td>\n",
       "    </tr>\n",
       "    <tr>\n",
       "      <td>2</td>\n",
       "      <td>17</td>\n",
       "      <td>0.894737</td>\n",
       "    </tr>\n",
       "    <tr>\n",
       "      <td>3</td>\n",
       "      <td>18</td>\n",
       "      <td>0.947368</td>\n",
       "    </tr>\n",
       "    <tr>\n",
       "      <td>4</td>\n",
       "      <td>2</td>\n",
       "      <td>0.105263</td>\n",
       "    </tr>\n",
       "    <tr>\n",
       "      <td>5</td>\n",
       "      <td>11</td>\n",
       "      <td>0.578947</td>\n",
       "    </tr>\n",
       "    <tr>\n",
       "      <td>6</td>\n",
       "      <td>0</td>\n",
       "      <td>0.000000</td>\n",
       "    </tr>\n",
       "    <tr>\n",
       "      <td>7</td>\n",
       "      <td>5</td>\n",
       "      <td>0.263158</td>\n",
       "    </tr>\n",
       "    <tr>\n",
       "      <td>8</td>\n",
       "      <td>1</td>\n",
       "      <td>0.052632</td>\n",
       "    </tr>\n",
       "    <tr>\n",
       "      <td>9</td>\n",
       "      <td>8</td>\n",
       "      <td>0.421053</td>\n",
       "    </tr>\n",
       "  </tbody>\n",
       "</table>\n",
       "</div>"
      ],
      "text/plain": [
       "   XN        UI\n",
       "0   6  0.315789\n",
       "1   4  0.210526\n",
       "2  17  0.894737\n",
       "3  18  0.947368\n",
       "4   2  0.105263\n",
       "5  11  0.578947\n",
       "6   0  0.000000\n",
       "7   5  0.263158\n",
       "8   1  0.052632\n",
       "9   8  0.421053"
      ]
     },
     "execution_count": 39,
     "metadata": {},
     "output_type": "execute_result"
    }
   ],
   "source": [
    "from pandas import DataFrame\n",
    "dict_listas = {'XN' : xn1,'UI' : Result,}\n",
    "dataframe = DataFrame(dict_listas)\n",
    "dataframe"
   ]
  }
 ],
 "metadata": {
  "kernelspec": {
   "display_name": "Python 3",
   "language": "python",
   "name": "python3"
  },
  "language_info": {
   "codemirror_mode": {
    "name": "ipython",
    "version": 3
   },
   "file_extension": ".py",
   "mimetype": "text/x-python",
   "name": "python",
   "nbconvert_exporter": "python",
   "pygments_lexer": "ipython3",
   "version": "3.7.4"
  }
 },
 "nbformat": 4,
 "nbformat_minor": 2
}
